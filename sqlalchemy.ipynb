{
  "nbformat": 4,
  "nbformat_minor": 0,
  "metadata": {
    "colab": {
      "name": "sqlalchemy.ipynb",
      "provenance": [],
      "collapsed_sections": [],
      "include_colab_link": true
    },
    "kernelspec": {
      "name": "python3",
      "display_name": "Python 3"
    },
    "language_info": {
      "name": "python"
    }
  },
  "cells": [
    {
      "cell_type": "markdown",
      "metadata": {
        "id": "view-in-github",
        "colab_type": "text"
      },
      "source": [
        "<a href=\"https://colab.research.google.com/github/Cristopher-12/Colab_sqlachemy/blob/main/sqlalchemy.ipynb\" target=\"_parent\"><img src=\"https://colab.research.google.com/assets/colab-badge.svg\" alt=\"Open In Colab\"/></a>"
      ]
    },
    {
      "cell_type": "code",
      "execution_count": 1,
      "metadata": {
        "id": "UjDWgpZFrDi5"
      },
      "outputs": [],
      "source": [
        "from sqlalchemy import create_engine\n",
        "from sqlalchemy import MetaData\n",
        "from sqlalchemy import Table, Column, Integer, String\n",
        "from sqlalchemy import insert, select, update, delete"
      ]
    },
    {
      "cell_type": "code",
      "source": [
        "engine = create_engine('sqlite:///prueba.db')"
      ],
      "metadata": {
        "id": "z6q3eGdNrKoD"
      },
      "execution_count": 2,
      "outputs": []
    },
    {
      "cell_type": "code",
      "source": [
        "metadata = MetaData()"
      ],
      "metadata": {
        "id": "ZnljmmodrNv7"
      },
      "execution_count": 3,
      "outputs": []
    },
    {
      "cell_type": "code",
      "source": [
        "clientes = Table(\n",
        "    'clientes', metadata,\n",
        "    Column('id_cliente', Integer, primary_key=True),\n",
        "    Column('nombre',String, nullable=False),\n",
        "    Column('email',String, nullable=False)\n",
        ")"
      ],
      "metadata": {
        "id": "BfUvNR-SrQK6"
      },
      "execution_count": 4,
      "outputs": []
    },
    {
      "cell_type": "code",
      "source": [
        "metadata.create_all(engine)"
      ],
      "metadata": {
        "id": "UZoj0VSDrdEd"
      },
      "execution_count": 5,
      "outputs": []
    },
    {
      "cell_type": "code",
      "source": [
        "stmt = insert(clientes).values(nombre='Cliente1', email='cliente1@email.com')\n",
        "print(type(stmt))\n",
        "print(stmt)"
      ],
      "metadata": {
        "colab": {
          "base_uri": "https://localhost:8080/"
        },
        "id": "BvT9fadyrfmS",
        "outputId": "215d9f3a-aaf1-4807-98c9-ae3677209e44"
      },
      "execution_count": 6,
      "outputs": [
        {
          "output_type": "stream",
          "name": "stdout",
          "text": [
            "<class 'sqlalchemy.sql.dml.Insert'>\n",
            "INSERT INTO clientes (nombre, email) VALUES (:nombre, :email)\n"
          ]
        }
      ]
    },
    {
      "cell_type": "code",
      "source": [
        "with engine.connect() as conn:\n",
        "  result = conn.execute(stmt)"
      ],
      "metadata": {
        "id": "hdcuGWiXriQm"
      },
      "execution_count": 7,
      "outputs": []
    },
    {
      "cell_type": "code",
      "source": [
        "data = [\n",
        "    {\"nombre\":\"Cliente 2\", \"email\":\"cliente2@email.com\"},\n",
        "    {\"nombre\":\"Cliente 3\", \"email\":\"cliente3@email.com\"},\n",
        "    {\"nombre\":\"Cliente 4\", \"email\":\"cliente4@email.com\"}\n",
        "]\n",
        "stmt = insert(clientes).values(data)\n",
        "print(type(stmt))\n",
        "print(stmt)"
      ],
      "metadata": {
        "colab": {
          "base_uri": "https://localhost:8080/"
        },
        "id": "-c07hRNurt8N",
        "outputId": "7cef1e2f-ad8c-4342-c54a-868670bb0b4f"
      },
      "execution_count": 8,
      "outputs": [
        {
          "output_type": "stream",
          "name": "stdout",
          "text": [
            "<class 'sqlalchemy.sql.dml.Insert'>\n",
            "INSERT INTO clientes (nombre, email) VALUES (:nombre_m0, :email_m0), (:nombre_m1, :email_m1), (:nombre_m2, :email_m2)\n"
          ]
        }
      ]
    },
    {
      "cell_type": "code",
      "source": [
        "with engine.connect() as conn:\n",
        "  result = conn.execute(stmt)"
      ],
      "metadata": {
        "id": "0t_avRSBsJqu"
      },
      "execution_count": 9,
      "outputs": []
    },
    {
      "cell_type": "code",
      "source": [
        "stmt = select(clientes)\n",
        "print(type(stmt))\n",
        "print(stmt)"
      ],
      "metadata": {
        "colab": {
          "base_uri": "https://localhost:8080/"
        },
        "id": "AZJaSKCwrnmE",
        "outputId": "a3f48979-1ea7-4449-a6a0-74b1d1600631"
      },
      "execution_count": 10,
      "outputs": [
        {
          "output_type": "stream",
          "name": "stdout",
          "text": [
            "<class 'sqlalchemy.sql.selectable.Select'>\n",
            "SELECT clientes.id_cliente, clientes.nombre, clientes.email \n",
            "FROM clientes\n"
          ]
        }
      ]
    },
    {
      "cell_type": "code",
      "source": [
        "with engine.connect() as conn:\n",
        "  result = conn.execute(stmt)\n",
        "  for row in result.fetchall():\n",
        "    print(row)"
      ],
      "metadata": {
        "colab": {
          "base_uri": "https://localhost:8080/"
        },
        "id": "ihL7_jdorpy1",
        "outputId": "a1e269fa-6f80-4bb0-f981-dacae818d5c5"
      },
      "execution_count": 11,
      "outputs": [
        {
          "output_type": "stream",
          "name": "stdout",
          "text": [
            "(1, 'Cliente1', 'cliente1@email.com')\n",
            "(2, 'Cliente 2', 'cliente2@email.com')\n",
            "(3, 'Cliente 3', 'cliente3@email.com')\n",
            "(4, 'Cliente 4', 'cliente4@email.com')\n"
          ]
        }
      ]
    }
  ]
}